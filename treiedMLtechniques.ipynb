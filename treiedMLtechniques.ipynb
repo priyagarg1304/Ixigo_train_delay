{
  "nbformat": 4,
  "nbformat_minor": 0,
  "metadata": {
    "colab": {
      "name": "ixigo.ipynb",
      "provenance": [],
      "collapsed_sections": []
    },
    "kernelspec": {
      "name": "python3",
      "display_name": "Python 3"
    }
  },
  "cells": [
    {
      "cell_type": "code",
      "metadata": {
        "id": "AGIshwRJdHor",
        "colab": {
          "base_uri": "https://localhost:8080/"
        },
        "outputId": "2a1eac38-c5ac-47d3-f477-59e6e1e6c696"
      },
      "source": [
        "import pandas as pd\r\n",
        "import numpy as np\r\n",
        "import datetime\r\n",
        "import sklearn \r\n",
        "import matplotlib.pyplot as plt\r\n",
        "from sklearn.linear_model import LinearRegression\r\n",
        "from sklearn.preprocessing import PolynomialFeatures\r\n",
        "\r\n",
        "def common_member(a, b): \r\n",
        "    a_set = set(a) \r\n",
        "    b_set = set(b) \r\n",
        "  \r\n",
        "    if (a_set & b_set): \r\n",
        "        return a_set & b_set \r\n",
        "    else: \r\n",
        "        print(\"No common elements\")\r\n",
        "\r\n",
        "train = pd.read_csv(\"train.csv\")\r\n",
        "test = pd.read_csv(\"test.csv\")\r\n",
        "\r\n",
        "train = train.dropna(axis=0)\r\n",
        "test = test.dropna(axis=0)\r\n",
        "\r\n",
        "train[[\"day\"]] = pd.to_datetime(train['runDate']).dt.dayofweek\r\n",
        "train[[\"runday\", \"runmonth\", \"runyear\"]] = train['runDate'].str.split(\"-\", expand = True)\r\n",
        "train[[\"Adate\", \"Atime\"]] = train['scheduledArrival'].str.split(\" \", expand = True)\r\n",
        "train[[\"Aday\", \"Amonth\", \"Ayear\"]] = train['Adate'].str.split(\"-\", expand = True)\r\n",
        "train[[\"Ahour\", \"Aminute\", \"Asecond\"]] = train['Atime'].str.split(\":\", expand = True)\r\n",
        "\r\n",
        "train[[\"Ddate\", \"Dtime\"]] =train['scheduledDeparture'].str.split(\" \", expand = True)\r\n",
        "train[[\"Dday\", \"Dmonth\", \"Dyear\"]] = train['Ddate'].str.split(\"-\", expand = True)\r\n",
        "train[[\"Dhour\", \"Dminute\", \"Dsecond\"]] = train['Dtime'].str.split(\":\", expand = True)\r\n",
        "train = train.drop(['scheduledArrival','scheduledDeparture','Adate','Atime','Ddate','Dtime','runDate'], axis = 1)\r\n",
        "\r\n",
        "test[[\"day\"]] = pd.to_datetime(test['runDate']).dt.dayofweek\r\n",
        "test[[\"runday\", \"runmonth\", \"runyear\"]] = test['runDate'].str.split(\"-\", expand = True)\r\n",
        "test[[\"Adate\", \"Atime\"]] = test['scheduledArrival'].str.split(\" \", expand = True)\r\n",
        "test[[\"Aday\", \"Amonth\", \"Ayear\"]] = test['Adate'].str.split(\"-\", expand = True)\r\n",
        "test[[\"Ahour\", \"Aminute\", \"Asecond\"]] = test['Atime'].str.split(\":\", expand = True)\r\n",
        "\r\n",
        "test[[\"Ddate\", \"Dtime\"]] = test['scheduledDeparture'].str.split(\" \", expand = True)\r\n",
        "test[[\"Dday\", \"Dmonth\", \"Dyear\"]] = test['Ddate'].str.split(\"-\", expand = True)\r\n",
        "test[[\"Dhour\", \"Dminute\", \"Dsecond\"]] = test['Dtime'].str.split(\":\", expand = True)\r\n",
        "test = test.drop(['scheduledArrival','scheduledDeparture','Adate','Atime','Ddate','Dtime','runDate'], axis = 1)\r\n",
        "\r\n",
        "train_cols = train.columns\r\n",
        "test_cols = test.columns\r\n",
        "\r\n",
        "cols = list(common_member(train_cols, test_cols))\r\n",
        "cols.sort()\r\n",
        "test = test[cols]\r\n",
        "y = train['ArrivalDelay']\r\n",
        "train = train[cols]\r\n",
        "print('Train: ',train.columns,'\\n Test : ', test.columns)\r\n",
        "train = np.array(pd.concat([train,y],axis=1))\r\n",
        "X_train = train[:,:(len(train[0])-1)]\r\n",
        "y_train = np.array(train)[:,len(train[0])-1]\r\n",
        "X_test = np.array(test)"
      ],
      "execution_count": 43,
      "outputs": [
        {
          "output_type": "stream",
          "text": [
            "Train:  Index(['Aday', 'Ahour', 'Aminute', 'Amonth', 'Asecond', 'Ayear', 'Dday',\n",
            "       'Dhour', 'Dminute', 'Dmonth', 'Dsecond', 'Dyear', 'day', 'dayCount',\n",
            "       'distance', 'runday', 'runmonth', 'runyear', 'stations', 'trainCode',\n",
            "       'trainStationId'],\n",
            "      dtype='object') \n",
            " Test :  Index(['Aday', 'Ahour', 'Aminute', 'Amonth', 'Asecond', 'Ayear', 'Dday',\n",
            "       'Dhour', 'Dminute', 'Dmonth', 'Dsecond', 'Dyear', 'day', 'dayCount',\n",
            "       'distance', 'runday', 'runmonth', 'runyear', 'stations', 'trainCode',\n",
            "       'trainStationId'],\n",
            "      dtype='object')\n"
          ],
          "name": "stdout"
        }
      ]
    },
    {
      "cell_type": "code",
      "metadata": {
        "id": "OfVwkmPkgkBa"
      },
      "source": [
        "from sklearn.model_selection import train_test_split\r\n",
        "from sklearn.preprocessing import LabelEncoder\r\n",
        "le = LabelEncoder()\r\n",
        "station_id = X_train[:,18] \r\n",
        "le.fit(station_id)\r\n",
        "X_train[:,18] = le.transform(station_id)\r\n",
        "X_test[:,18] = le.transform(X_test[:,18])\r\n",
        "X_train = X_train.astype('int')\r\n",
        "X_test = X_test.astype('int')"
      ],
      "execution_count": 44,
      "outputs": []
    },
    {
      "cell_type": "code",
      "metadata": {
        "id": "7p0r6q3VNQ6h"
      },
      "source": [
        "train_data, test_data, y_t, y_test = train_test_split(X_train, y_train, test_size=0.2\r\n",
        "                                                      , random_state=42)"
      ],
      "execution_count": 45,
      "outputs": []
    },
    {
      "cell_type": "markdown",
      "metadata": {
        "id": "YHSs7uNzgIuX"
      },
      "source": [
        "Linear Regression"
      ]
    },
    {
      "cell_type": "code",
      "metadata": {
        "colab": {
          "base_uri": "https://localhost:8080/"
        },
        "id": "BYOkrLcggKaL",
        "outputId": "462840a2-e02f-461b-df56-2d1c2c5197e0"
      },
      "source": [
        "lr = LinearRegression()\r\n",
        "lr.fit(train_data, y_t)\r\n",
        "lr.score(test_data,y_test)"
      ],
      "execution_count": 46,
      "outputs": [
        {
          "output_type": "execute_result",
          "data": {
            "text/plain": [
              "0.09501387559628782"
            ]
          },
          "metadata": {
            "tags": []
          },
          "execution_count": 46
        }
      ]
    },
    {
      "cell_type": "markdown",
      "metadata": {
        "id": "x6dAnaFggGHL"
      },
      "source": [
        "Polynomial Regression"
      ]
    },
    {
      "cell_type": "code",
      "metadata": {
        "id": "ceGFzfFSdqAC",
        "colab": {
          "base_uri": "https://localhost:8080/"
        },
        "outputId": "53f37d52-452e-4be0-e87b-8125da421ebc"
      },
      "source": [
        "poly = PolynomialFeatures(1)\r\n",
        "t_data = poly.fit_transform(train_data,y_t)\r\n",
        "print(len(t_data[0]))\r\n",
        "ts_data = poly.fit_transform(test_data)\r\n",
        "\r\n",
        "lr = LinearRegression()\r\n",
        "lr.fit(t_data, y_t)\r\n",
        "pred_test_lr = lr.predict(ts_data)\r\n",
        "\r\n",
        "print(np.sqrt(mean_squared_error(y_test,pred_test_lr)), end = '\\t') \r\n",
        "print(r2_score(y_test, pred_test_lr))"
      ],
      "execution_count": 47,
      "outputs": [
        {
          "output_type": "stream",
          "text": [
            "22\n",
            "61.62016955417944\t0.09501387559609509\n"
          ],
          "name": "stdout"
        }
      ]
    },
    {
      "cell_type": "markdown",
      "metadata": {
        "id": "x29C-UyaTT8z"
      },
      "source": [
        "Regression Trees"
      ]
    },
    {
      "cell_type": "code",
      "metadata": {
        "colab": {
          "base_uri": "https://localhost:8080/"
        },
        "id": "h0GsiffEK3pM",
        "outputId": "e0cf973c-b30d-4b18-985e-c7dec0225cd6"
      },
      "source": [
        "from sklearn import model_selection\r\n",
        "from sklearn.linear_model import Ridge\r\n",
        "from sklearn.linear_model import Lasso\r\n",
        "from sklearn.linear_model import ElasticNet\r\n",
        "from sklearn.neighbors import KNeighborsRegressor\r\n",
        "from sklearn.tree import DecisionTreeRegressor\r\n",
        "from sklearn.svm import SVR\r\n",
        "from sklearn.ensemble import RandomForestRegressor\r\n",
        "from sklearn.metrics import r2_score\r\n",
        "from sklearn.metrics import mean_squared_error\r\n",
        "from math import sqrt\r\n",
        "import matplotlib.pyplot as plt\r\n",
        "\r\n",
        "dtree = DecisionTreeRegressor(max_depth=26, min_samples_leaf=2, random_state=42)\r\n",
        "dtree.fit(train_data, y_t)\r\n",
        "\r\n",
        "pred_train_tree= dtree.predict(train_data)\r\n",
        "print(np.sqrt(mean_squared_error(y_t,pred_train_tree)), end ='\\t')\r\n",
        "print(r2_score(y_t, pred_train_tree), end = '\\t')\r\n",
        "\r\n",
        "pred_test_tree= dtree.predict(test_data)\r\n",
        "print(np.sqrt(mean_squared_error(y_test,pred_test_tree)), end = '\\t') \r\n",
        "print(r2_score(y_test, pred_test_tree))"
      ],
      "execution_count": 48,
      "outputs": [
        {
          "output_type": "stream",
          "text": [
            "10.721034462610099\t0.9706632114964583\t26.76738219461166\t0.8292314296899465\n"
          ],
          "name": "stdout"
        }
      ]
    },
    {
      "cell_type": "markdown",
      "metadata": {
        "id": "Hg9gdbNTtmZ3"
      },
      "source": [
        "K-Nearest Neighours\r\n"
      ]
    },
    {
      "cell_type": "code",
      "metadata": {
        "colab": {
          "base_uri": "https://localhost:8080/"
        },
        "id": "RYXCvtRTtoZi",
        "outputId": "b75e8b84-a3d3-47ce-a94a-1a2b35d88ef4"
      },
      "source": [
        "from sklearn.neighbors import KNeighborsRegressor\r\n",
        "from sklearn.neighbors import RadiusNeighborsRegressor\r\n",
        "\r\n",
        "model_knn = KNeighborsRegressor(n_neighbors=30, algorithm= 'ball_tree', p=2)\r\n",
        "model_knn.fit(train_data,y_t)\r\n",
        "\r\n",
        "print(np.sqrt(mean_squared_error(y_t,pred_train_nn)), end ='\\t')\r\n",
        "print(r2_score(y_t, pred_train_nn), end = '\\t')\r\n",
        "\r\n",
        "pred_test_nn= model_knn.predict(test_data)\r\n",
        "print(np.sqrt(mean_squared_error(y_test,pred_test_nn)), end = '\\t') \r\n",
        "print(r2_score(y_test, pred_test_nn))"
      ],
      "execution_count": 49,
      "outputs": [
        {
          "output_type": "stream",
          "text": [
            "53.31826784343899\t0.2744100649542204\t57.18634078390817\t0.22056346574394414\n"
          ],
          "name": "stdout"
        }
      ]
    },
    {
      "cell_type": "markdown",
      "metadata": {
        "id": "soKsQ3iyqi32"
      },
      "source": [
        "Support Vector Regressor"
      ]
    },
    {
      "cell_type": "code",
      "metadata": {
        "colab": {
          "base_uri": "https://localhost:8080/"
        },
        "id": "9eyUvIaET5rx",
        "outputId": "53c05288-d3b2-4896-f5e0-c8f8981a57df"
      },
      "source": [
        "model_svm = SVR(degree = 10)\r\n",
        "model_svm.fit(train_data, y_t)\r\n",
        "pred_train_s= model_svm.predict(train_data)\r\n",
        "print(np.sqrt(mean_squared_error(y_t,pred_train_s)), end = '\\t')\r\n",
        "print(r2_score(y_t, pred_train_s), end = '\\t')\r\n",
        "\r\n",
        "pred_test_s = model_svm.predict(test_data)\r\n",
        "print(np.sqrt(mean_squared_error(y_test,pred_test_s)), end = '\\t')\r\n",
        "print(r2_score(y_test, pred_test_s))"
      ],
      "execution_count": null,
      "outputs": [
        {
          "output_type": "stream",
          "text": [
            "66.05077732853944\t-0.11351238521405604\t68.28061623059187\t-0.11119686233073844\n"
          ],
          "name": "stdout"
        }
      ]
    },
    {
      "cell_type": "markdown",
      "metadata": {
        "id": "oEeoLnQusI5Y"
      },
      "source": [
        "Multi-Layer Perceptron"
      ]
    },
    {
      "cell_type": "code",
      "metadata": {
        "colab": {
          "base_uri": "https://localhost:8080/"
        },
        "id": "IGl_xi79q3BX",
        "outputId": "0c668872-d125-405a-945e-800c154d0f6b"
      },
      "source": [
        "from sklearn.neural_network import MLPRegressor\r\n",
        "model_mlp = MLPRegressor(hidden_layer_sizes=(1,300), activation='tanh', alpha=0.0001, batch_size=1000, max_iter=500, shuffle=True)\r\n",
        "model_mlp.fit(train_data, y_t)\r\n",
        "pred_train_m= model_mlp.predict(train_data)\r\n",
        "print(np.sqrt(mean_squared_error(y_t,pred_train_m)), end = '\\t')\r\n",
        "print(r2_score(y_t, pred_train_m), end = '\\t')\r\n",
        "\r\n",
        "pred_test_m = model_mlp.predict(test_data)\r\n",
        "print(np.sqrt(mean_squared_error(y_test,pred_test_m)), end = '\\t')\r\n",
        "print(r2_score(y_test, pred_test_m))"
      ],
      "execution_count": null,
      "outputs": [
        {
          "output_type": "stream",
          "text": [
            "62.59366959917338\t-2.7812693259576804e-08\t64.77635071548461\t-6.700244677904088e-05\n"
          ],
          "name": "stdout"
        }
      ]
    },
    {
      "cell_type": "markdown",
      "metadata": {
        "id": "OEBjHNCHv4ya"
      },
      "source": [
        "Ensmeble Learning Methods\r\n",
        "\r\n",
        "Bagging"
      ]
    },
    {
      "cell_type": "code",
      "metadata": {
        "colab": {
          "base_uri": "https://localhost:8080/"
        },
        "id": "JG19CQlgtBxL",
        "outputId": "7e44b3d8-3cd8-4b06-fb3a-76e649908112"
      },
      "source": [
        "import warnings\r\n",
        "from sklearn.ensemble import BaggingRegressor\r\n",
        "model_bag = BaggingRegressor(RandomForestRegressor(n_estimators=100), max_samples=0.8, max_features=0.8)\r\n",
        "\r\n",
        "model_bag.fit(train_data, y_t)\r\n",
        "pred_train_bag= model_bag.predict(train_data)\r\n",
        "print(np.sqrt(mean_squared_error(y_t,pred_train_bag)), end = '\\t')\r\n",
        "print(r2_score(y_t, pred_train_bag), end = '\\t')\r\n",
        "\r\n",
        "pred_test_bag = model_bag.predict(test_data)\r\n",
        "print(np.sqrt(mean_squared_error(y_test,pred_test_bag)), end = '\\t')\r\n",
        "print(r2_score(y_test, pred_test_bag))"
      ],
      "execution_count": null,
      "outputs": [
        {
          "output_type": "stream",
          "text": [
            "24.51836369306092\t0.8465658076768361\t39.6089569599036\t0.6260763325096805\n"
          ],
          "name": "stdout"
        }
      ]
    },
    {
      "cell_type": "markdown",
      "metadata": {
        "id": "c1Hg6ilzGOtf"
      },
      "source": [
        "Random Forest"
      ]
    },
    {
      "cell_type": "code",
      "metadata": {
        "id": "Ne-Zx5O9GPUw"
      },
      "source": [
        "model_rf = RandomForestRegressor(n_estimators=130, oob_score=True, random_state=100)\r\n",
        "model_rf.fit(train_data, y_t) \r\n",
        "pred_train_rf= model_rf.predict(train_data)\r\n",
        "print(np.sqrt(mean_squared_error(y_t,pred_train_rf)), end = '\\t')\r\n",
        "print(r2_score(y_t, pred_train_rf), end = '\\t')\r\n",
        "\r\n",
        "pred_test_rf = model_rf.predict(test_data)\r\n",
        "print(np.sqrt(mean_squared_error(y_test,pred_test_rf)), end = '\\t')\r\n",
        "print(r2_score(y_test, pred_test_rf))"
      ],
      "execution_count": null,
      "outputs": []
    },
    {
      "cell_type": "markdown",
      "metadata": {
        "id": "0FHFaobn6iuX"
      },
      "source": [
        "Extra Trees Classfiier\r\n"
      ]
    },
    {
      "cell_type": "code",
      "metadata": {
        "colab": {
          "base_uri": "https://localhost:8080/"
        },
        "id": "2ljCJ2hU16YM",
        "outputId": "cb560f9e-7ed3-42ec-c9ca-69505b3c3f65"
      },
      "source": [
        "from sklearn.ensemble import ExtraTreesRegressor\r\n",
        "from sklearn.model_selection import cross_val_score\r\n",
        "clf = ExtraTreesRegressor(n_estimators=100, max_depth=25, min_samples_split=2, random_state=0)\r\n",
        "clf.fit(train_data, y_t)\r\n",
        "\r\n",
        "pred_train= clf.predict(train_data)\r\n",
        "print(np.sqrt(mean_squared_error(y_t,pred_train)), end = '\\t')\r\n",
        "print(r2_score(y_t, pred_train), end = '\\t')\r\n",
        "\r\n",
        "pred_test = clf.predict(test_data)\r\n",
        "print(np.sqrt(mean_squared_error(y_test,pred_test)), end = '\\t')\r\n",
        "print(r2_score(y_test, pred_test))"
      ],
      "execution_count": null,
      "outputs": [
        {
          "output_type": "stream",
          "text": [
            "0.1175184607287694\t0.9999964750628768\t26.05488469300574\t0.8382015139690397\n"
          ],
          "name": "stdout"
        }
      ]
    },
    {
      "cell_type": "markdown",
      "metadata": {
        "id": "JVjfxRGs9IBv"
      },
      "source": [
        "AdaBoost"
      ]
    },
    {
      "cell_type": "code",
      "metadata": {
        "colab": {
          "base_uri": "https://localhost:8080/"
        },
        "id": "KC_424nX7U0_",
        "outputId": "ad025b6b-2977-4d9e-c9e8-610446718f3c"
      },
      "source": [
        "from sklearn.ensemble import AdaBoostRegressor\r\n",
        "model_ada = AdaBoostRegressor(base_estimator=DecisionTreeRegressor(max_depth=30),\r\n",
        "                              n_estimators=80)\r\n",
        "model_ada.fit(train_data, y_t)\r\n",
        "\r\n",
        "pred_train_ada= model_ada.predict(train_data)\r\n",
        "print(np.sqrt(mean_squared_error(y_t,pred_train_ada)), end = '\\t')\r\n",
        "print(r2_score(y_t, pred_train_ada), end = '\\t')\r\n",
        "\r\n",
        "pred_test_ada = model_ada.predict(test_data)\r\n",
        "print(np.sqrt(mean_squared_error(y_test,pred_test_ada)), end = '\\t')\r\n",
        "print(r2_score(y_test, pred_test_ada))"
      ],
      "execution_count": null,
      "outputs": [
        {
          "output_type": "stream",
          "text": [
            "0.8266298377566749\t0.999825594032562\t21.86481289078632\t0.8860569939342322\n"
          ],
          "name": "stdout"
        }
      ]
    },
    {
      "cell_type": "markdown",
      "metadata": {
        "id": "xV8R6SjyIn5R"
      },
      "source": [
        "Principle Component Analysis -> Linear Models\r\n",
        "\r\n",
        "1) Linear Regression\r\n",
        "\r\n",
        "2) Ridge Regression\r\n",
        "\r\n",
        "3) Lasso Tehcnique\r\n",
        "\r\n",
        "4) ElasticNet Technique"
      ]
    },
    {
      "cell_type": "code",
      "metadata": {
        "colab": {
          "base_uri": "https://localhost:8080/"
        },
        "id": "SfkuQ_U0GGev",
        "outputId": "b2a2194e-7ed1-441f-ec5c-9abed8fc5230"
      },
      "source": [
        "from sklearn.decomposition import PCA\r\n",
        "import warnings\r\n",
        "warnings.filterwarnings('ignore')\r\n",
        "pca = PCA(n_components=20)\r\n",
        "\r\n",
        "# apply transform to dataset\r\n",
        "train_data_chn = pca.fit_transform(train_data)\r\n",
        "test_data_chn = pca.fit_transform(test_data)\r\n",
        "# train_data_chn=train_data\r\n",
        "# test_data_chn=test_data\r\n",
        "from sklearn.linear_model import LinearRegression\r\n",
        "from sklearn.linear_model import Ridge\r\n",
        "from sklearn.linear_model import Lasso\r\n",
        "from sklearn.linear_model import ElasticNet\r\n",
        "\r\n",
        "model = LinearRegression(normalize=True, n_jobs=100)\r\n",
        "model.fit(train_data_chn, y_t)\r\n",
        "\r\n",
        "pred_train= model.predict(train_data_chn)\r\n",
        "print('Linear:',np.sqrt(mean_squared_error(y_t,pred_train)), end = '\\t')\r\n",
        "print(r2_score(y_t, pred_train), end = '\\t')\r\n",
        "\r\n",
        "pred_test = model.predict(test_data_chn)\r\n",
        "print(np.sqrt(mean_squared_error(y_test,pred_test)), end = '\\t')\r\n",
        "print(r2_score(y_test, pred_test))\r\n",
        "\r\n",
        "model = Ridge(max_iter = 300)\r\n",
        "model.fit(train_data_chn,y_t)\r\n",
        "\r\n",
        "pred_train= model.predict(train_data_chn)\r\n",
        "print('Ridge:',np.sqrt(mean_squared_error(y_t,pred_train)), end = '\\t')\r\n",
        "print(r2_score(y_t, pred_train), end = '\\t')\r\n",
        "\r\n",
        "pred_test = model.predict(test_data_chn)\r\n",
        "print(np.sqrt(mean_squared_error(y_test,pred_test)), end = '\\t')\r\n",
        "print(r2_score(y_test, pred_test))\r\n",
        "\r\n",
        "model = Lasso()\r\n",
        "model.fit(train_data_chn,y_t)\r\n",
        "pred_train= model.predict(train_data_chn)\r\n",
        "print('Lasso:',np.sqrt(mean_squared_error(y_t,pred_train)), end = '\\t')\r\n",
        "print(r2_score(y_t, pred_train), end = '\\t')\r\n",
        "\r\n",
        "pred_test = model.predict(test_data_chn)\r\n",
        "print(np.sqrt(mean_squared_error(y_test,pred_test)), end = '\\t')\r\n",
        "print(r2_score(y_test, pred_test))\r\n",
        "\r\n",
        "model = ElasticNet()\r\n",
        "model.fit(train_data_chn,y_t)\r\n",
        "pred_train= model.predict(train_data_chn)\r\n",
        "print('ElastcNet:',np.sqrt(mean_squared_error(y_t,pred_train)), end = '\\t')\r\n",
        "print(r2_score(y_t, pred_train), end = '\\t')\r\n",
        "\r\n",
        "pred_test = model.predict(test_data_chn)\r\n",
        "print(np.sqrt(mean_squared_error(y_test,pred_test)), end = '\\t')\r\n",
        "print(r2_score(y_test, pred_test))\r\n"
      ],
      "execution_count": null,
      "outputs": [
        {
          "output_type": "stream",
          "text": [
            "Linear: 59.39354173445062\t0.09963701297118277\t63.51201873436555\t0.038591457714988064\n",
            "Ridge: 59.39549198652038\t0.09957788318849159\t63.498019264369155\t0.0390152429120153\n",
            "Lasso: 59.53150852642259\t0.09544920175649496\t63.32927960158458\t0.04411589923778225\n",
            "ElastcNet: 60.02392139126679\t0.08042339212864169\t63.202532038306394\t0.04793829356127721\n"
          ],
          "name": "stdout"
        }
      ]
    },
    {
      "cell_type": "markdown",
      "metadata": {
        "id": "CBzryTWvQ99C"
      },
      "source": [
        "PLOTS\r\n"
      ]
    },
    {
      "cell_type": "code",
      "metadata": {
        "colab": {
          "base_uri": "https://localhost:8080/",
          "height": 334
        },
        "id": "d6rMGJbnJp3c",
        "outputId": "7d86881d-19b1-49b1-d34b-3fe05d2e8137"
      },
      "source": [
        "train = pd.read_csv(\"train.csv\")\r\n",
        "test = pd.read_csv(\"test.csv\")\r\n",
        "y = np.array(train['DepartureDelay'])\r\n",
        "x = np.array(train['ArrivalDelay'])\r\n",
        "plt.figure(figsize=(5, 5))\r\n",
        "plt.plot(x,y,'o')\r\n",
        "# plt.title('Arrival Time Delay')\r\n",
        "plt.xlabel('Arrival Time Delay')\r\n",
        "plt.ylabel('Departure Time Delay')\r\n",
        "plt.show()"
      ],
      "execution_count": null,
      "outputs": [
        {
          "output_type": "display_data",
          "data": {
            "image/png": "[encoded data removed]",
            "text/plain": [
              "<Figure size 360x360 with 1 Axes>"
            ]
          },
          "metadata": {
            "tags": [],
            "needs_background": "light"
          }
        }
      ]
    }
  ]
}