{
  "nbformat": 4,
  "nbformat_minor": 0,
  "metadata": {
    "colab": {
      "name": "Final_prediction_model.ipynb",
      "provenance": []
    },
    "kernelspec": {
      "name": "python3",
      "display_name": "Python 3"
    }
  },
  "cells": [
    {
      "cell_type": "code",
      "metadata": {
        "colab": {
          "base_uri": "https://localhost:8080/"
        },
        "id": "CoVP7FBt1t9-",
        "outputId": "b4b5acd4-095a-4e9d-be0e-ec3b72df46ad"
      },
      "source": [
        "import pandas as pd\r\n",
        "import numpy as np\r\n",
        "import datetime\r\n",
        "import sklearn \r\n",
        "import matplotlib.pyplot as plt\r\n",
        "\r\n",
        "#This function finds the common elemengts in both the lists\r\n",
        "def common_member(a, b): \r\n",
        "    a_set = set(a) \r\n",
        "    b_set = set(b) \r\n",
        "    if (a_set & b_set): \r\n",
        "        return a_set & b_set \r\n",
        "    else: \r\n",
        "        print(\"No common elements\")\r\n",
        "\r\n",
        "#importing training and testing data using pandas library\r\n",
        "train = pd.read_csv(\"train.csv\")\r\n",
        "test = pd.read_csv(\"test.csv\")\r\n",
        "\r\n",
        "# Filling NA values with 0\r\n",
        "# Columns with Datetime are done separately because these are going to be splitted into more columns and to avoid null the \r\n",
        "# format should be kept same as datatime \r\n",
        "train[['runDate','scheduledArrival','scheduledDeparture']] = train[['runDate','scheduledArrival','scheduledDeparture']].fillna('0-0-0 0:0:0')\r\n",
        "test[['runDate','scheduledArrival','scheduledDeparture']] = test[['runDate','scheduledArrival','scheduledDeparture']].fillna('0-0-0 0:0:0')\r\n",
        "train = train.fillna('0')\r\n",
        "test = test.fillna('0')\r\n",
        "\r\n",
        "# Converting all the dates into 6 columns od day, month, year, hour, minute and seconds \r\n",
        "train[[\"day\"]] = pd.to_datetime(train['runDate']).dt.dayofweek\r\n",
        "train[[\"runday\", \"runmonth\", \"runyear\"]] = train['runDate'].str.split(\"-\", expand = True)\r\n",
        "train[[\"Adate\", \"Atime\"]] = train['scheduledArrival'].str.split(\" \", expand = True)\r\n",
        "train[[\"Aday\", \"Amonth\", \"Ayear\"]] = train['Adate'].str.split(\"-\", expand = True)\r\n",
        "train[[\"Ahour\", \"Aminute\", \"Asecond\"]] = train['Atime'].str.split(\":\", expand = True)\r\n",
        "\r\n",
        "train[[\"Ddate\", \"Dtime\"]] =train['scheduledDeparture'].str.split(\" \", expand = True)\r\n",
        "train[[\"Dday\", \"Dmonth\", \"Dyear\"]] = train['Ddate'].str.split(\"-\", expand = True)\r\n",
        "train[[\"Dhour\", \"Dminute\", \"Dsecond\"]] = train['Dtime'].str.split(\":\", expand = True)\r\n",
        "\r\n",
        "#dropping the extra columns\r\n",
        "train = train.drop(['scheduledArrival','scheduledDeparture','Adate','Atime','Ddate','Dtime','runDate'], axis = 1)\r\n",
        "\r\n",
        "test[[\"day\"]] = pd.to_datetime(test['runDate']).dt.dayofweek\r\n",
        "test[[\"runday\", \"runmonth\", \"runyear\"]] = test['runDate'].str.split(\"-\", expand = True)\r\n",
        "test[[\"Adate\", \"Atime\"]] = test['scheduledArrival'].str.split(\" \", expand = True)\r\n",
        "test[[\"Aday\", \"Amonth\", \"Ayear\"]] = test['Adate'].str.split(\"-\", expand = True)\r\n",
        "test[[\"Ahour\", \"Aminute\", \"Asecond\"]] = test['Atime'].str.split(\":\", expand = True)\r\n",
        "\r\n",
        "test[[\"Ddate\", \"Dtime\"]] = test['scheduledDeparture'].str.split(\" \", expand = True)\r\n",
        "test[[\"Dday\", \"Dmonth\", \"Dyear\"]] = test['Ddate'].str.split(\"-\", expand = True)\r\n",
        "test[[\"Dhour\", \"Dminute\", \"Dsecond\"]] = test['Dtime'].str.split(\":\", expand = True)\r\n",
        "\r\n",
        "#dropping the extra columns\r\n",
        "test = test.drop(['scheduledArrival','scheduledDeparture','Adate','Atime','Ddate','Dtime','runDate'], axis = 1)\r\n",
        "\r\n",
        "train_cols = train.columns\r\n",
        "test_cols = test.columns\r\n",
        "\r\n",
        "#getting the common columns so that only these columns persists\r\n",
        "cols = list(common_member(train_cols, test_cols))\r\n",
        "cols.sort()\r\n",
        "\r\n",
        "test = test[cols]\r\n",
        "\r\n",
        "# arrivalDelay and DepartureDelay are stored to be used later during prediction\r\n",
        "y_arrv = train['ArrivalDelay']\r\n",
        "y_dept = train['DepartureDelay']\r\n",
        "\r\n",
        "train = train[cols]\r\n",
        "\r\n",
        "print('Train: ',train.columns,'\\n Test : ', test.columns)\r\n",
        "\r\n",
        "train = np.array(pd.concat([train,y],axis=1))\r\n",
        "X_train = train[:,:(len(train[0])-1)]\r\n",
        "y_train = np.array(train)[:,len(train[0])-1]\r\n",
        "X_test = np.array(test)\r\n",
        "\r\n",
        "# Label encoding the \"stations\" column which contains string variables that are not supported by Machine Learning Models\r\n",
        "from sklearn.model_selection import train_test_split\r\n",
        "from sklearn.preprocessing import LabelEncoder\r\n",
        "\r\n",
        "le = LabelEncoder()\r\n",
        "station_id = X_train[:,18] \r\n",
        "le.fit(station_id)\r\n",
        "X_train[:,18] = le.transform(station_id)\r\n",
        "X_test[:,18] = le.transform(X_test[:,18])\r\n",
        "\r\n",
        "#converting every variable fro string to int \r\n",
        "X_train = X_train.astype('int')\r\n",
        "X_test = X_test.astype('int')"
      ],
      "execution_count": 44,
      "outputs": [
        {
          "output_type": "stream",
          "text": [
            "Train:  Index(['Aday', 'Ahour', 'Aminute', 'Amonth', 'Asecond', 'Ayear', 'Dday',\n",
            "       'Dhour', 'Dminute', 'Dmonth', 'Dsecond', 'Dyear', 'day', 'dayCount',\n",
            "       'distance', 'runday', 'runmonth', 'runyear', 'stations', 'trainCode',\n",
            "       'trainStationId'],\n",
            "      dtype='object') \n",
            " Test :  Index(['Aday', 'Ahour', 'Aminute', 'Amonth', 'Asecond', 'Ayear', 'Dday',\n",
            "       'Dhour', 'Dminute', 'Dmonth', 'Dsecond', 'Dyear', 'day', 'dayCount',\n",
            "       'distance', 'runday', 'runmonth', 'runyear', 'stations', 'trainCode',\n",
            "       'trainStationId'],\n",
            "      dtype='object')\n"
          ],
          "name": "stdout"
        }
      ]
    },
    {
      "cell_type": "code",
      "metadata": {
        "colab": {
          "base_uri": "https://localhost:8080/"
        },
        "id": "3EOiv3_f2N7q",
        "outputId": "ae6ccb8b-7604-4fe8-da17-3cd629e6295c"
      },
      "source": [
        "from sklearn.ensemble import AdaBoostRegressor\r\n",
        "from sklearn.tree import DecisionTreeRegressor\r\n",
        "from sklearn.metrics import r2_score\r\n",
        "from sklearn.metrics import mean_squared_error\r\n",
        "\r\n",
        "# Adaboost model is intialized with DecisionTree as the base classifier \r\n",
        "model_ada = AdaBoostRegressor(base_estimator=DecisionTreeRegressor(max_depth=30),\r\n",
        "                              n_estimators=80)\r\n",
        "\r\n",
        "# Training the model using training data for output variable as arrivalDelay\r\n",
        "model_ada.fit(X_train, y_train)\r\n",
        "\r\n",
        "pred_train_ada= model_ada.predict(X_train)\r\n",
        "\r\n",
        "print(\"RMSE : \",np.sqrt(mean_squared_error(y_train,pred_train_ada)))\r\n",
        "print(\"R2 Score : \",r2_score(y_train, pred_train_ada))\r\n",
        "\r\n",
        "# predicting the final test arrivalDelay that is included in the solution file\r\n",
        "pred_test_ada = model_ada.predict(X_test)"
      ],
      "execution_count": 45,
      "outputs": [
        {
          "output_type": "stream",
          "text": [
            "RMSE :  0.7279741430443643\n",
            "R2 Score :  0.9998667727205047\n"
          ],
          "name": "stdout"
        }
      ]
    },
    {
      "cell_type": "code",
      "metadata": {
        "id": "oSel0CLG2EUd"
      },
      "source": [
        "#We can save the model using pickle library\r\n",
        "import pickle\r\n",
        "filename = 'model_ada_arival.sav'\r\n",
        "pickle.dump(model_ada, open(filename, 'wb'))\r\n",
        "\r\n",
        "# load the model from disk\r\n",
        "model_ada_arrival = pickle.load(open(filename, 'rb'))"
      ],
      "execution_count": 46,
      "outputs": []
    },
    {
      "cell_type": "code",
      "metadata": {
        "colab": {
          "base_uri": "https://localhost:8080/"
        },
        "id": "WqgD4EMW6n2b",
        "outputId": "6cc20e32-9b07-4a2e-e5c6-2104b7025ede"
      },
      "source": [
        "#arrivalDelay variable is put into the training data and testing data so that now departure delay can be predicted\r\n",
        "X_train = np.hstack((X_train,np.resize(pred_train_ada,(31875,1))))\r\n",
        "X_test = np.hstack((X_test,np.resize(pred_test_ada,(695,1))))\r\n",
        "\r\n",
        "y_train = y_dept\r\n",
        "\r\n",
        "from sklearn.ensemble import AdaBoostRegressor\r\n",
        "from sklearn.tree import DecisionTreeRegressor\r\n",
        "from sklearn.metrics import r2_score\r\n",
        "from sklearn.metrics import mean_squared_error\r\n",
        "\r\n",
        "# Model initialization\r\n",
        "model_ada_dept = AdaBoostRegressor(base_estimator=DecisionTreeRegressor(max_depth=30),\r\n",
        "                              n_estimators=80)\r\n",
        "# Model Training\r\n",
        "model_ada_dept.fit(X_train, y_train)\r\n",
        "\r\n",
        "pred_train_ada= model_ada_dept.predict(X_train)\r\n",
        "print(\"RMSE : \",np.sqrt(mean_squared_error(y_train,pred_train_ada)))\r\n",
        "print(\"R2 Score : \",r2_score(y_train, pred_train_ada))\r\n",
        "\r\n",
        "# Testing data prediction\r\n",
        "pred_test_ada = model_ada_dept.predict(X_test)"
      ],
      "execution_count": 47,
      "outputs": [
        {
          "output_type": "stream",
          "text": [
            "RMSE :  0.1668572191476974\n",
            "R2 Score :  0.9999926733177857\n"
          ],
          "name": "stdout"
        }
      ]
    },
    {
      "cell_type": "code",
      "metadata": {
        "id": "cbggyV7L99sX"
      },
      "source": [
        "# Save model\r\n",
        "import pickle\r\n",
        "filename = 'model_ada_departure.sav'\r\n",
        "pickle.dump(model_ada, open(filename, 'wb'))\r\n",
        "\r\n",
        "# load the model from disk\r\n",
        "model_ada_arrival = pickle.load(open(filename, 'rb'))"
      ],
      "execution_count": 48,
      "outputs": []
    }
  ]
}
